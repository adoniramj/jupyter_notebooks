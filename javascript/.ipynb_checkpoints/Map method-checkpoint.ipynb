{
 "cells": [
  {
   "cell_type": "markdown",
   "metadata": {},
   "source": [
    "# Map method"
   ]
  },
  {
   "cell_type": "markdown",
   "metadata": {},
   "source": [
    "The map method loops through an arrays and ***returns*** a new array.\n",
    "\n",
    "The map method uses a callback function to modify the elements of an array and creates a new array with the modifications."
   ]
  },
  {
   "cell_type": "code",
   "execution_count": 2,
   "metadata": {},
   "outputs": [
    {
     "name": "stdout",
     "output_type": "stream",
     "text": [
      "[ 10, 20, 30, 40, 50 ]\n"
     ]
    }
   ],
   "source": [
    "// Multiplying an array of numbers by 10\n",
    "\n",
    "var original_array = [1,2,3,4,5]\n",
    "\n",
    "var new_array = original_array.map(element => element * 10)\n",
    "\n",
    "console.log(new_array)"
   ]
  },
  {
   "cell_type": "code",
   "execution_count": 15,
   "metadata": {},
   "outputs": [
    {
     "name": "stdout",
     "output_type": "stream",
     "text": [
      "[ { '1': 10 }, { '2': 20 }, { '3': 30 } ]\n",
      "10\n"
     ]
    }
   ],
   "source": [
    "// Map over an array of objects\n",
    "var array_of_objects = [\n",
    "                      { key:1, value:10},\n",
    "                      { key:2, value:20},\n",
    "                      { key:3, value:30}\n",
    "                      ]\n",
    "\n",
    "var new_array_of_objects = array_of_objects.map(obj => {\n",
    "    var temp_obj = {}\n",
    "    temp_obj[obj.key] = obj.value\n",
    "    return temp_obj\n",
    "})\n",
    "console.log(new_array_of_objects)\n",
    "console.log(new_array_of_objects[0]['1'])\n",
    "\n"
   ]
  },
  {
   "cell_type": "code",
   "execution_count": null,
   "metadata": {},
   "outputs": [],
   "source": []
  }
 ],
 "metadata": {
  "kernelspec": {
   "display_name": "Javascript (Node.js)",
   "language": "javascript",
   "name": "javascript"
  },
  "language_info": {
   "file_extension": ".js",
   "mimetype": "application/javascript",
   "name": "javascript",
   "version": "10.13.0"
  }
 },
 "nbformat": 4,
 "nbformat_minor": 2
}
