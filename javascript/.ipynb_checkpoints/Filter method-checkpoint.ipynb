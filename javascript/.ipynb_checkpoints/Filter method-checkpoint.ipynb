{
 "cells": [
  {
   "cell_type": "markdown",
   "metadata": {},
   "source": [
    "# Filter method"
   ]
  },
  {
   "cell_type": "markdown",
   "metadata": {},
   "source": [
    "The filter method loops through an array and applies a filter and returns a new array of all the elements that passed the filter condition.\n",
    "\n",
    "The filter method does not modify the original array."
   ]
  },
  {
   "cell_type": "code",
   "execution_count": 1,
   "metadata": {},
   "outputs": [
    {
     "name": "stdout",
     "output_type": "stream",
     "text": [
      "[ 1, 10, 4, 6 ]\n",
      "[ 1, -5, 10, 4, -3, 6, -67 ]\n"
     ]
    }
   ],
   "source": [
    "// Return a new array with no negative numbers\n",
    "\n",
    "let original_array = [1,-5,10,4,-3,6,-67]\n",
    "let new_array = original_array.filter(element => element > 0)\n",
    "console.log(new_array)\n",
    "console.log(original_array)"
   ]
  },
  {
   "cell_type": "code",
   "execution_count": 5,
   "metadata": {},
   "outputs": [
    {
     "name": "stdout",
     "output_type": "stream",
     "text": [
      "[ -5, -3, -67 ]\n"
     ]
    }
   ],
   "source": [
    "// Filtering negative numbers using a function\n",
    "\n",
    "function neg_num(num){\n",
    "    return num < 0\n",
    "}\n",
    "\n",
    "let neg_array = original_array.filter(neg_num)\n",
    "\n",
    "console.log(neg_array)"
   ]
  },
  {
   "cell_type": "code",
   "execution_count": 4,
   "metadata": {},
   "outputs": [
    {
     "name": "stdout",
     "output_type": "stream",
     "text": [
      "[ 'California' ]\n"
     ]
    }
   ],
   "source": [
    "// Return California\n",
    "let states = ['Florida', 'California', 'New York']\n",
    "\n",
    "let new_states = states.filter(element => element === 'California')\n",
    "console.log(new_states)"
   ]
  },
  {
   "cell_type": "code",
   "execution_count": null,
   "metadata": {},
   "outputs": [],
   "source": []
  }
 ],
 "metadata": {
  "kernelspec": {
   "display_name": "Javascript (Node.js)",
   "language": "javascript",
   "name": "javascript"
  },
  "language_info": {
   "file_extension": ".js",
   "mimetype": "application/javascript",
   "name": "javascript",
   "version": "10.13.0"
  }
 },
 "nbformat": 4,
 "nbformat_minor": 2
}
