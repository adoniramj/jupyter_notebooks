{
 "cells": [
  {
   "cell_type": "markdown",
   "metadata": {},
   "source": [
    "# Final Project CAP 4784"
   ]
  },
  {
   "cell_type": "code",
   "execution_count": 1,
   "metadata": {},
   "outputs": [],
   "source": [
    "from pyspark.sql import SparkSession"
   ]
  },
  {
   "cell_type": "code",
   "execution_count": 2,
   "metadata": {},
   "outputs": [],
   "source": [
    "import pyspark.sql.functions as F"
   ]
  },
  {
   "cell_type": "code",
   "execution_count": 3,
   "metadata": {},
   "outputs": [],
   "source": [
    "from pyspark.sql.types import *"
   ]
  },
  {
   "cell_type": "markdown",
   "metadata": {},
   "source": [
    "## Import growth_data.csv"
   ]
  },
  {
   "cell_type": "code",
   "execution_count": 4,
   "metadata": {},
   "outputs": [],
   "source": [
    "df_data=spark.read.csv('growth_data.csv' \\\n",
    "                      ,header=True \\\n",
    "                      ,inferSchema=True)"
   ]
  },
  {
   "cell_type": "code",
   "execution_count": 5,
   "metadata": {},
   "outputs": [
    {
     "data": {
      "text/plain": [
       "264"
      ]
     },
     "execution_count": 5,
     "metadata": {},
     "output_type": "execute_result"
    }
   ],
   "source": [
    "# Verify data was imported.\n",
    "df_data.count()"
   ]
  },
  {
   "cell_type": "code",
   "execution_count": 6,
   "metadata": {},
   "outputs": [
    {
     "name": "stdout",
     "output_type": "stream",
     "text": [
      "root\n",
      " |-- Country_Name: string (nullable = true)\n",
      " |-- Country_Code: string (nullable = true)\n",
      " |-- 1960: double (nullable = true)\n",
      " |-- 1961: double (nullable = true)\n",
      " |-- 1962: double (nullable = true)\n",
      " |-- 1963: double (nullable = true)\n",
      " |-- 1964: double (nullable = true)\n",
      " |-- 1965: double (nullable = true)\n",
      " |-- 1966: double (nullable = true)\n",
      " |-- 1967: double (nullable = true)\n",
      " |-- 1968: double (nullable = true)\n",
      " |-- 1969: double (nullable = true)\n",
      " |-- 1970: double (nullable = true)\n",
      " |-- 1971: double (nullable = true)\n",
      " |-- 1972: double (nullable = true)\n",
      " |-- 1973: double (nullable = true)\n",
      " |-- 1974: double (nullable = true)\n",
      " |-- 1975: double (nullable = true)\n",
      " |-- 1976: double (nullable = true)\n",
      " |-- 1977: double (nullable = true)\n",
      " |-- 1978: double (nullable = true)\n",
      " |-- 1979: double (nullable = true)\n",
      " |-- 1980: double (nullable = true)\n",
      " |-- 1981: double (nullable = true)\n",
      " |-- 1982: double (nullable = true)\n",
      " |-- 1983: double (nullable = true)\n",
      " |-- 1984: double (nullable = true)\n",
      " |-- 1985: double (nullable = true)\n",
      " |-- 1986: double (nullable = true)\n",
      " |-- 1987: double (nullable = true)\n",
      " |-- 1988: double (nullable = true)\n",
      " |-- 1989: double (nullable = true)\n",
      " |-- 1990: double (nullable = true)\n",
      " |-- 1991: double (nullable = true)\n",
      " |-- 1992: double (nullable = true)\n",
      " |-- 1993: double (nullable = true)\n",
      " |-- 1994: double (nullable = true)\n",
      " |-- 1995: double (nullable = true)\n",
      " |-- 1996: double (nullable = true)\n",
      " |-- 1997: double (nullable = true)\n",
      " |-- 1998: double (nullable = true)\n",
      " |-- 1999: double (nullable = true)\n",
      " |-- 2000: double (nullable = true)\n",
      " |-- 2001: double (nullable = true)\n",
      " |-- 2002: double (nullable = true)\n",
      " |-- 2003: double (nullable = true)\n",
      " |-- 2004: double (nullable = true)\n",
      " |-- 2005: double (nullable = true)\n",
      " |-- 2006: double (nullable = true)\n",
      " |-- 2007: double (nullable = true)\n",
      " |-- 2008: double (nullable = true)\n",
      " |-- 2009: double (nullable = true)\n",
      " |-- 2010: double (nullable = true)\n",
      " |-- 2011: double (nullable = true)\n",
      " |-- 2012: double (nullable = true)\n",
      " |-- 2013: double (nullable = true)\n",
      " |-- 2014: double (nullable = true)\n",
      " |-- 2015: double (nullable = true)\n",
      " |-- 2016: double (nullable = true)\n",
      " |-- 2017: double (nullable = true)\n",
      " |-- 2018: double (nullable = true)\n",
      "\n"
     ]
    }
   ],
   "source": [
    "# Verify schema of df_data\n",
    "df_data.printSchema()"
   ]
  },
  {
   "cell_type": "markdown",
   "metadata": {},
   "source": [
    "## Import country_codes.csv"
   ]
  },
  {
   "cell_type": "code",
   "execution_count": 7,
   "metadata": {},
   "outputs": [],
   "source": [
    "df_countries=spark.read.csv('country_codes.csv' \\\n",
    "                           ,header=True \\\n",
    "                           ,inferSchema=True)"
   ]
  },
  {
   "cell_type": "code",
   "execution_count": 8,
   "metadata": {},
   "outputs": [
    {
     "data": {
      "text/plain": [
       "263"
      ]
     },
     "execution_count": 8,
     "metadata": {},
     "output_type": "execute_result"
    }
   ],
   "source": [
    "# Verify country_codes.csv was imported\n",
    "df_countries.count()"
   ]
  },
  {
   "cell_type": "code",
   "execution_count": 9,
   "metadata": {},
   "outputs": [
    {
     "name": "stdout",
     "output_type": "stream",
     "text": [
      "root\n",
      " |-- Country_Code: string (nullable = true)\n",
      " |-- Region: string (nullable = true)\n",
      " |-- IncomeGroup: string (nullable = true)\n",
      " |-- SpecialNotes: string (nullable = true)\n",
      " |-- TableName: string (nullable = true)\n",
      "\n"
     ]
    }
   ],
   "source": [
    "# Verify schema of df_countries\n",
    "df_countries.printSchema()"
   ]
  },
  {
   "cell_type": "markdown",
   "metadata": {},
   "source": [
    "## Join df_data and df_countries"
   ]
  },
  {
   "cell_type": "code",
   "execution_count": 10,
   "metadata": {},
   "outputs": [],
   "source": [
    "df_combined=df_data.join(df_countries,on='Country_Code')"
   ]
  },
  {
   "cell_type": "code",
   "execution_count": 11,
   "metadata": {},
   "outputs": [
    {
     "name": "stdout",
     "output_type": "stream",
     "text": [
      "root\n",
      " |-- Country_Code: string (nullable = true)\n",
      " |-- Country_Name: string (nullable = true)\n",
      " |-- 1960: double (nullable = true)\n",
      " |-- 1961: double (nullable = true)\n",
      " |-- 1962: double (nullable = true)\n",
      " |-- 1963: double (nullable = true)\n",
      " |-- 1964: double (nullable = true)\n",
      " |-- 1965: double (nullable = true)\n",
      " |-- 1966: double (nullable = true)\n",
      " |-- 1967: double (nullable = true)\n",
      " |-- 1968: double (nullable = true)\n",
      " |-- 1969: double (nullable = true)\n",
      " |-- 1970: double (nullable = true)\n",
      " |-- 1971: double (nullable = true)\n",
      " |-- 1972: double (nullable = true)\n",
      " |-- 1973: double (nullable = true)\n",
      " |-- 1974: double (nullable = true)\n",
      " |-- 1975: double (nullable = true)\n",
      " |-- 1976: double (nullable = true)\n",
      " |-- 1977: double (nullable = true)\n",
      " |-- 1978: double (nullable = true)\n",
      " |-- 1979: double (nullable = true)\n",
      " |-- 1980: double (nullable = true)\n",
      " |-- 1981: double (nullable = true)\n",
      " |-- 1982: double (nullable = true)\n",
      " |-- 1983: double (nullable = true)\n",
      " |-- 1984: double (nullable = true)\n",
      " |-- 1985: double (nullable = true)\n",
      " |-- 1986: double (nullable = true)\n",
      " |-- 1987: double (nullable = true)\n",
      " |-- 1988: double (nullable = true)\n",
      " |-- 1989: double (nullable = true)\n",
      " |-- 1990: double (nullable = true)\n",
      " |-- 1991: double (nullable = true)\n",
      " |-- 1992: double (nullable = true)\n",
      " |-- 1993: double (nullable = true)\n",
      " |-- 1994: double (nullable = true)\n",
      " |-- 1995: double (nullable = true)\n",
      " |-- 1996: double (nullable = true)\n",
      " |-- 1997: double (nullable = true)\n",
      " |-- 1998: double (nullable = true)\n",
      " |-- 1999: double (nullable = true)\n",
      " |-- 2000: double (nullable = true)\n",
      " |-- 2001: double (nullable = true)\n",
      " |-- 2002: double (nullable = true)\n",
      " |-- 2003: double (nullable = true)\n",
      " |-- 2004: double (nullable = true)\n",
      " |-- 2005: double (nullable = true)\n",
      " |-- 2006: double (nullable = true)\n",
      " |-- 2007: double (nullable = true)\n",
      " |-- 2008: double (nullable = true)\n",
      " |-- 2009: double (nullable = true)\n",
      " |-- 2010: double (nullable = true)\n",
      " |-- 2011: double (nullable = true)\n",
      " |-- 2012: double (nullable = true)\n",
      " |-- 2013: double (nullable = true)\n",
      " |-- 2014: double (nullable = true)\n",
      " |-- 2015: double (nullable = true)\n",
      " |-- 2016: double (nullable = true)\n",
      " |-- 2017: double (nullable = true)\n",
      " |-- 2018: double (nullable = true)\n",
      " |-- Region: string (nullable = true)\n",
      " |-- IncomeGroup: string (nullable = true)\n",
      " |-- SpecialNotes: string (nullable = true)\n",
      " |-- TableName: string (nullable = true)\n",
      "\n"
     ]
    }
   ],
   "source": [
    "df_combined.printSchema()"
   ]
  },
  {
   "cell_type": "markdown",
   "metadata": {},
   "source": [
    "## Total number of records"
   ]
  },
  {
   "cell_type": "code",
   "execution_count": 12,
   "metadata": {},
   "outputs": [
    {
     "data": {
      "text/plain": [
       "263"
      ]
     },
     "execution_count": 12,
     "metadata": {},
     "output_type": "execute_result"
    }
   ],
   "source": [
    "df_combined.count()"
   ]
  },
  {
   "cell_type": "markdown",
   "metadata": {},
   "source": [
    "## Using UDF to calculate the average growth per record"
   ]
  },
  {
   "cell_type": "code",
   "execution_count": 13,
   "metadata": {},
   "outputs": [],
   "source": [
    "from pyspark.sql.functions import col\n",
    "\n",
    "marksColumns = [col('1960'), col('1961'),col('1962'),col('1963'),col('1964'),col('1965'),col('1966'),col('1967') \\\n",
    "               ,col('1968'),col('1969'),col('1970'),col('1971'),col('1972'),col('1973'),col('1974'),col('1975') \\\n",
    "               ,col('1976'),col('1977'),col('1978'),col('1979'),col('1980'),col('1981'),col('1982'),col('1983') \\\n",
    "               ,col('1984'),col('1985'),col('1986'),col('1987'),col('1988'),col('1989'),col('1990'),col('1991') \\\n",
    "               ,col('1992'), col('1993'),col('1994'),col('1995'),col('1996'),col('1997') \\\n",
    "               ,col('1998'), col('1999'),col('2000'),col('2001'),col('2002'),col('2003'),col('2004'),col('2005') \\\n",
    "               ,col('2006'),col('2007'),col('2008'),col('2009'),col('2010'),col('2011'),col('2012'),col('2013') \\\n",
    "               ,col('2014'),col('2015'),col('2016'),col('2017'),col('2018')]\n",
    "\n",
    "averageFunc = sum(x for x in marksColumns)/len(marksColumns)\n",
    "\n",
    "# add Avg_Growth to dataframe\n",
    "df_average=df_combined.withColumn('Avg_Growth', averageFunc)"
   ]
  },
  {
   "cell_type": "markdown",
   "metadata": {},
   "source": [
    "## Create a new dataframe\n",
    "    - Country_name\n",
    "    - Country_Code,\n",
    "    - Region,\n",
    "    - IncomeGroup,\n",
    "    - Avg_Growth"
   ]
  },
  {
   "cell_type": "code",
   "execution_count": 14,
   "metadata": {},
   "outputs": [],
   "source": [
    "spark.catalog.dropTempView(\"df_temp\")\n",
    "df_average.createOrReplaceTempView('df_temp')\n",
    "query='''\n",
    "        select \n",
    "            Country_name,\n",
    "            Country_code,\n",
    "            region,\n",
    "            IncomeGroup,\n",
    "            Avg_Growth\n",
    "        from df_temp '''\n",
    "\n",
    "df_summary=spark.sql(query)"
   ]
  },
  {
   "cell_type": "code",
   "execution_count": 15,
   "metadata": {},
   "outputs": [
    {
     "name": "stdout",
     "output_type": "stream",
     "text": [
      "+--------------------+------------+--------------------+-------------------+--------------------+\n",
      "|        Country_name|Country_code|              region|        IncomeGroup|          Avg_Growth|\n",
      "+--------------------+------------+--------------------+-------------------+--------------------+\n",
      "|               Aruba|         ABW|Latin America & C...|        High income|  1.1874106581084072|\n",
      "|         Afghanistan|         AFG|          South Asia|         Low income|   2.435532836257381|\n",
      "|              Angola|         AGO|  Sub-Saharan Africa|Lower middle income|  2.9576449299854315|\n",
      "|             Albania|         ALB|Europe & Central ...|Upper middle income|   1.030024042742419|\n",
      "|             Andorra|         AND|Europe & Central ...|        High income|  3.0818893379473686|\n",
      "|          Arab World|         ARB|                null|               null|                null|\n",
      "|United Arab Emirates|         ARE|Middle East & Nor...|        High income|  7.9739998445704146|\n",
      "|           Argentina|         ARG|Latin America & C...|Upper middle income|  1.3429565033807718|\n",
      "|             Armenia|         ARM|Europe & Central ...|Upper middle income|  0.8309020718417667|\n",
      "|      American Samoa|         ASM| East Asia & Pacific|Upper middle income|  1.7438285869556542|\n",
      "| Antigua and Barbuda|         ATG|Latin America & C...|        High income|   1.004800500788169|\n",
      "|           Australia|         AUS| East Asia & Pacific|        High income|  1.5447155198103075|\n",
      "|             Austria|         AUT|Europe & Central ...|        High income|  0.3940883330164894|\n",
      "|          Azerbaijan|         AZE|Europe & Central ...|Upper middle income|  1.6443548113937243|\n",
      "|             Burundi|         BDI|  Sub-Saharan Africa|         Low income|   2.380657361464993|\n",
      "|             Belgium|         BEL|Europe & Central ...|        High income| 0.38642249242742616|\n",
      "|               Benin|         BEN|  Sub-Saharan Africa|         Low income|    2.65343112351896|\n",
      "|        Burkina Faso|         BFA|  Sub-Saharan Africa|         Low income|  2.4103854162630385|\n",
      "|          Bangladesh|         BGD|          South Asia|Lower middle income|  2.1014523921056996|\n",
      "|            Bulgaria|         BGR|Europe & Central ...|Upper middle income|-0.17598535868735332|\n",
      "|             Bahrain|         BHR|Middle East & Nor...|        High income|  3.9044899934951203|\n",
      "|        Bahamas, The|         BHS|Latin America & C...|        High income|   2.214459234758373|\n",
      "|Bosnia and Herzeg...|         BIH|Europe & Central ...|Upper middle income|  0.0829386435497023|\n",
      "|             Belarus|         BLR|Europe & Central ...|Upper middle income|  0.2637897630191854|\n",
      "|              Belize|         BLZ|Latin America & C...|Upper middle income|  2.4645651921957117|\n",
      "|             Bermuda|         BMU|       North America|        High income|  0.6480643351340484|\n",
      "|             Bolivia|         BOL|Latin America & C...|Lower middle income|  1.9528503062387026|\n",
      "|              Brazil|         BRA|Latin America & C...|Upper middle income|   1.854781572196185|\n",
      "|            Barbados|         BRB|Latin America & C...|        High income|  0.3701778853349476|\n",
      "|   Brunei Darussalam|         BRN| East Asia & Pacific|        High income|   2.891928267720927|\n",
      "|              Bhutan|         BTN|          South Asia|Lower middle income|  2.1055946392832188|\n",
      "|            Botswana|         BWA|  Sub-Saharan Africa|Upper middle income|  2.5729847914499393|\n",
      "|Central African R...|         CAF|  Sub-Saharan Africa|         Low income|  1.9478562686758398|\n",
      "|              Canada|         CAN|       North America|        High income|  1.2715080246555255|\n",
      "|Central Europe an...|         CEB|                null|               null|                null|\n",
      "|         Switzerland|         CHE|Europe & Central ...|        High income|  0.8318470883179961|\n",
      "|     Channel Islands|         CHI|Europe & Central ...|        High income|  0.7656760515560592|\n",
      "|               Chile|         CHL|Latin America & C...|        High income|  1.4491240140728974|\n",
      "|               China|         CHN| East Asia & Pacific|Upper middle income|  1.2787369789766616|\n",
      "|       Cote d'Ivoire|         CIV|  Sub-Saharan Africa|Lower middle income|  3.3925584576927648|\n",
      "|            Cameroon|         CMR|  Sub-Saharan Africa|Lower middle income|    2.71748956142525|\n",
      "|    Congo, Dem. Rep.|         COD|  Sub-Saharan Africa|         Low income|   2.935867038931991|\n",
      "|         Congo, Rep.|         COG|  Sub-Saharan Africa|Lower middle income|  2.8179159814166876|\n",
      "|            Colombia|         COL|Latin America & C...|Upper middle income|  1.9660538506593772|\n",
      "|             Comoros|         COM|  Sub-Saharan Africa|Lower middle income|  2.5207823694285945|\n",
      "|          Cabo Verde|         CPV|  Sub-Saharan Africa|Lower middle income|  1.7001655319445583|\n",
      "|          Costa Rica|         CRI|Latin America & C...|Upper middle income|   2.305965231347022|\n",
      "|Caribbean small s...|         CSS|                null|               null|                null|\n",
      "|                Cuba|         CUB|Latin America & C...|Upper middle income|  0.8161768451269125|\n",
      "|             Curacao|         CUW|Latin America & C...|        High income|  0.4316373790710421|\n",
      "|      Cayman Islands|         CYM|Latin America & C...|        High income|  3.6004771675673486|\n",
      "|              Cyprus|         CYP|Europe & Central ...|        High income|  1.2555248535415537|\n",
      "|      Czech Republic|         CZE|Europe & Central ...|        High income| 0.19384435136371986|\n",
      "|             Germany|         DEU|Europe & Central ...|        High income| 0.23369136088394313|\n",
      "|            Djibouti|         DJI|Middle East & Nor...|Lower middle income|   4.218038671046437|\n",
      "|            Dominica|         DMA|Latin America & C...|Upper middle income| 0.33089769438181904|\n",
      "|             Denmark|         DNK|Europe & Central ...|        High income|  0.4109456765276159|\n",
      "|  Dominican Republic|         DOM|Latin America & C...|Upper middle income|   2.042245338434088|\n",
      "|             Algeria|         DZA|Middle East & Nor...|Upper middle income|   2.313732328962913|\n",
      "|East Asia & Pacif...|         EAP|                null|               null|                null|\n",
      "|Early-demographic...|         EAR|                null|               null|                null|\n",
      "| East Asia & Pacific|         EAS|                null|               null|                null|\n",
      "|Europe & Central ...|         ECA|                null|               null|                null|\n",
      "|Europe & Central ...|         ECS|                null|               null|                null|\n",
      "|             Ecuador|         ECU|Latin America & C...|Upper middle income|   2.292510849648579|\n",
      "|    Egypt, Arab Rep.|         EGY|Middle East & Nor...|Lower middle income|   2.261910021699141|\n",
      "|           Euro area|         EMU|                null|               null|                null|\n",
      "|             Eritrea|         ERI|  Sub-Saharan Africa|         Low income|                null|\n",
      "|               Spain|         ESP|Europe & Central ...|        High income|  0.7444035804034607|\n",
      "|             Estonia|         EST|Europe & Central ...|        High income| 0.15778754505237572|\n",
      "|            Ethiopia|         ETH|  Sub-Saharan Africa|         Low income|  2.7421127941250556|\n",
      "|      European Union|         EUU|                null|               null|                null|\n",
      "|Fragile and confl...|         FCS|                null|               null|                null|\n",
      "|             Finland|         FIN|Europe & Central ...|        High income| 0.38561734051551966|\n",
      "|                Fiji|         FJI| East Asia & Pacific|Upper middle income|  1.4275187812691006|\n",
      "|              France|         FRA|Europe & Central ...|        High income|  0.6348006328826913|\n",
      "|       Faroe Islands|         FRO|Europe & Central ...|        High income|  0.5937291730973777|\n",
      "|Micronesia, Fed. ...|         FSM| East Asia & Pacific|Lower middle income|  1.6285361381076053|\n",
      "|               Gabon|         GAB|  Sub-Saharan Africa|Upper middle income|  2.4594451645288316|\n",
      "|      United Kingdom|         GBR|Europe & Central ...|        High income|  0.4094764109419955|\n",
      "|             Georgia|         GEO|Europe & Central ...|Upper middle income| 0.07049637704259758|\n",
      "|               Ghana|         GHA|  Sub-Saharan Africa|Lower middle income|  2.5959750857942456|\n",
      "|           Gibraltar|         GIB|Europe & Central ...|        High income|   0.637277700423785|\n",
      "|              Guinea|         GIN|  Sub-Saharan Africa|         Low income|  2.1763705150047454|\n",
      "|         Gambia, The|         GMB|  Sub-Saharan Africa|         Low income|  3.1398001996263587|\n",
      "|       Guinea-Bissau|         GNB|  Sub-Saharan Africa|         Low income|  1.9058357875852465|\n",
      "|   Equatorial Guinea|         GNQ|  Sub-Saharan Africa|Upper middle income|  2.7939648155434194|\n",
      "|              Greece|         GRC|Europe & Central ...|        High income|  0.4406495708597265|\n",
      "|             Grenada|         GRD|Latin America & C...|Upper middle income| 0.39402634687636645|\n",
      "|           Greenland|         GRL|Europe & Central ...|        High income|   0.990866084421487|\n",
      "|           Guatemala|         GTM|Latin America & C...|Upper middle income|   2.440081335344501|\n",
      "|                Guam|         GUM| East Asia & Pacific|        High income|  1.5707185293123191|\n",
      "|              Guyana|         GUY|Latin America & C...|Upper middle income|  0.5774329537352277|\n",
      "|         High income|         HIC|                null|               null|                null|\n",
      "|Hong Kong SAR, China|         HKG| East Asia & Pacific|        High income|  1.5751805538545949|\n",
      "|            Honduras|         HND|Latin America & C...|Lower middle income|   2.671629112292579|\n",
      "|Heavily indebted ...|         HPC|                null|               null|                null|\n",
      "|             Croatia|         HRV|Europe & Central ...|        High income|-0.01028148352810963|\n",
      "|               Haiti|         HTI|Latin America & C...|         Low income|  1.8239932185851366|\n",
      "|             Hungary|         HUN|Europe & Central ...|        High income|-0.03239550903416332|\n",
      "|           IBRD only|         IBD|                null|               null|                null|\n",
      "|    IDA & IBRD total|         IBT|                null|               null|                null|\n",
      "|           IDA total|         IDA|                null|               null|                null|\n",
      "|           IDA blend|         IDB|                null|               null|                null|\n",
      "|           Indonesia|         IDN| East Asia & Pacific|Lower middle income|  1.9347044277146173|\n",
      "|            IDA only|         IDX|                null|               null|                null|\n",
      "|         Isle of Man|         IMN|Europe & Central ...|        High income|   0.919158233647906|\n",
      "|               India|         IND|          South Asia|Lower middle income|   1.896513023070612|\n",
      "|             Ireland|         IRL|Europe & Central ...|        High income|    0.91036008959831|\n",
      "|  Iran, Islamic Rep.|         IRN|Middle East & Nor...|Upper middle income|   2.276613402631724|\n",
      "|                Iraq|         IRQ|Middle East & Nor...|Upper middle income|  2.8587375736968412|\n",
      "|             Iceland|         ISL|Europe & Central ...|        High income|  1.2169245072295845|\n",
      "|              Israel|         ISR|Middle East & Nor...|        High income|  2.4967885944035335|\n",
      "|               Italy|         ITA|Europe & Central ...|        High income| 0.34819853356593655|\n",
      "|             Jamaica|         JAM|Latin America & C...|Upper middle income|  1.0187080038658836|\n",
      "|              Jordan|         JOR|Middle East & Nor...|Upper middle income|   4.101173488786667|\n",
      "|               Japan|         JPN| East Asia & Pacific|        High income|  0.5460230223913862|\n",
      "|          Kazakhstan|         KAZ|Europe & Central ...|Upper middle income|   1.105652983440521|\n",
      "|               Kenya|         KEN|  Sub-Saharan Africa|Lower middle income|   3.179633658840498|\n",
      "|     Kyrgyz Republic|         KGZ|Europe & Central ...|Lower middle income|  1.8608271506593541|\n",
      "|            Cambodia|         KHM| East Asia & Pacific|Lower middle income|  1.8120794146277692|\n",
      "|            Kiribati|         KIR| East Asia & Pacific|Lower middle income|  1.7937353590271181|\n",
      "| St. Kitts and Nevis|         KNA|Latin America & C...|        High income| 0.04812313110951128|\n",
      "|         Korea, Rep.|         KOR| East Asia & Pacific|        High income|  1.2778077115593134|\n",
      "|              Kuwait|         KWT|Middle East & Nor...|        High income|                null|\n",
      "|Latin America & C...|         LAC|                null|               null|                null|\n",
      "|             Lao PDR|         LAO| East Asia & Pacific|Lower middle income|   2.077637931587408|\n",
      "|             Lebanon|         LBN|Middle East & Nor...|Upper middle income|  2.3154073950672847|\n",
      "|             Liberia|         LBR|  Sub-Saharan Africa|         Low income|   2.510491763540403|\n",
      "|               Libya|         LBY|Middle East & Nor...|Upper middle income|  2.6462283611406483|\n",
      "|           St. Lucia|         LCA|Latin America & C...|Upper middle income|  1.2145841316259607|\n",
      "|Latin America & C...|         LCN|                null|               null|                null|\n",
      "|Least developed c...|         LDC|                null|               null|                null|\n",
      "|          Low income|         LIC|                null|               null|                null|\n",
      "|       Liechtenstein|         LIE|Europe & Central ...|        High income|  1.4489933631751248|\n",
      "|           Sri Lanka|         LKA|          South Asia|Upper middle income|  1.3727493723301487|\n",
      "| Lower middle income|         LMC|                null|               null|                null|\n",
      "| Low & middle income|         LMY|                null|               null|                null|\n",
      "|             Lesotho|         LSO|  Sub-Saharan Africa|Lower middle income|  1.5958631473733729|\n",
      "|Late-demographic ...|         LTE|                null|               null|                null|\n",
      "|           Lithuania|         LTU|Europe & Central ...|        High income| 0.03295793782592182|\n",
      "|          Luxembourg|         LUX|Europe & Central ...|        High income|  1.1327159209581275|\n",
      "|              Latvia|         LVA|Europe & Central ...|        High income|-0.15127092407344855|\n",
      "|    Macao SAR, China|         MAC| East Asia & Pacific|        High income|  2.2417768913721603|\n",
      "|St. Martin (Frenc...|         MAF|Latin America & C...|        High income|    3.87042898432524|\n",
      "|             Morocco|         MAR|Middle East & Nor...|Lower middle income|  1.8703969713260635|\n",
      "|              Monaco|         MCO|Europe & Central ...|        High income|  0.9584990496234724|\n",
      "|             Moldova|         MDA|Europe & Central ...|Lower middle income|  0.6052974702951692|\n",
      "|          Madagascar|         MDG|  Sub-Saharan Africa|         Low income|  2.8182317772331023|\n",
      "|            Maldives|         MDV|          South Asia|Upper middle income|  3.0050831155740827|\n",
      "|Middle East & Nor...|         MEA|                null|               null|                null|\n",
      "|              Mexico|         MEX|Latin America & C...|Upper middle income|  2.0973147011743225|\n",
      "|    Marshall Islands|         MHL| East Asia & Pacific|Upper middle income|   2.374584655766638|\n",
      "|       Middle income|         MIC|                null|               null|                null|\n",
      "|     North Macedonia|         MKD|Europe & Central ...|Upper middle income|  0.5909040787859301|\n",
      "|                Mali|         MLI|  Sub-Saharan Africa|         Low income|  2.2013790304294183|\n",
      "|               Malta|         MLT|Middle East & Nor...|        High income|  0.7332144992235768|\n",
      "|             Myanmar|         MMR| East Asia & Pacific|Lower middle income|  1.5697380769315168|\n",
      "|Middle East & Nor...|         MNA|                null|               null|                null|\n",
      "|          Montenegro|         MNE|Europe & Central ...|Upper middle income| 0.47095949751550864|\n",
      "|            Mongolia|         MNG| East Asia & Pacific|Lower middle income|  2.0758926902303183|\n",
      "|Northern Mariana ...|         MNP| East Asia & Pacific|        High income|   3.007693729259584|\n",
      "|          Mozambique|         MOZ|  Sub-Saharan Africa|         Low income|  2.4292231985264188|\n",
      "|          Mauritania|         MRT|  Sub-Saharan Africa|Lower middle income|  2.8363232311751365|\n",
      "|           Mauritius|         MUS|  Sub-Saharan Africa|Upper middle income|  1.1532458434519908|\n",
      "|              Malawi|         MWI|  Sub-Saharan Africa|         Low income|  2.7527987798984586|\n",
      "|            Malaysia|         MYS| East Asia & Pacific|Upper middle income|    2.34363228097572|\n",
      "|       North America|         NAC|                null|               null|                null|\n",
      "|             Namibia|         NAM|  Sub-Saharan Africa|Upper middle income|   2.328644332152019|\n",
      "|       New Caledonia|         NCL| East Asia & Pacific|        High income|  2.2351776619453805|\n",
      "|               Niger|         NER|  Sub-Saharan Africa|         Low income|   3.251522908398026|\n",
      "|             Nigeria|         NGA|  Sub-Saharan Africa|Lower middle income|  2.5211856900348617|\n",
      "|           Nicaragua|         NIC|Latin America & C...|Lower middle income|   2.246834594442012|\n",
      "|         Netherlands|         NLD|Europe & Central ...|        High income|  0.7204220796976111|\n",
      "|              Norway|         NOR|Europe & Central ...|        High income|  0.6832083609726789|\n",
      "|               Nepal|         NPL|          South Asia|         Low income|  1.7597405397900359|\n",
      "|               Nauru|         NRU| East Asia & Pacific|Upper middle income|   1.881646238103342|\n",
      "|         New Zealand|         NZL| East Asia & Pacific|        High income|                null|\n",
      "|        OECD members|         OED|                null|               null|                null|\n",
      "|                Oman|         OMN|Middle East & Nor...|        High income|   3.715534269437047|\n",
      "|  Other small states|         OSS|                null|               null|                null|\n",
      "|            Pakistan|         PAK|          South Asia|Lower middle income|  2.6679319067454745|\n",
      "|              Panama|         PAN|Latin America & C...|        High income|    2.26122339004885|\n",
      "|                Peru|         PER|Latin America & C...|Upper middle income|  1.9921902824571243|\n",
      "|         Philippines|         PHL| East Asia & Pacific|Lower middle income|  2.4315316579334674|\n",
      "|               Palau|         PLW| East Asia & Pacific|        High income|  1.0769062210156481|\n",
      "|    Papua New Guinea|         PNG| East Asia & Pacific|Lower middle income|   2.299094783023585|\n",
      "|              Poland|         POL|Europe & Central ...|        High income|    0.47685307944642|\n",
      "|Pre-demographic d...|         PRE|                null|               null|                null|\n",
      "|         Puerto Rico|         PRI|Latin America & C...|        High income|  0.5308439078317496|\n",
      "|Korea, Dem. Peopl...|         PRK| East Asia & Pacific|         Low income|  1.4061451310647322|\n",
      "|            Portugal|         PRT|Europe & Central ...|        High income| 0.25350995041110036|\n",
      "|            Paraguay|         PRY|Latin America & C...|Upper middle income|  2.2402607243287096|\n",
      "|  West Bank and Gaza|         PSE|Middle East & Nor...|Lower middle income|                null|\n",
      "|Pacific island sm...|         PSS|                null|               null|                null|\n",
      "|Post-demographic ...|         PST|                null|               null|                null|\n",
      "|    French Polynesia|         PYF| East Asia & Pacific|        High income|   2.200488686594739|\n",
      "|               Qatar|         QAT|Middle East & Nor...|        High income|  7.0233221768373335|\n",
      "|             Romania|         ROU|Europe & Central ...|Upper middle income|  0.1095922284912149|\n",
      "|  Russian Federation|         RUS|Europe & Central ...|Upper middle income| 0.34099918143148206|\n",
      "|              Rwanda|         RWA|  Sub-Saharan Africa|         Low income|   2.471117830201884|\n",
      "|          South Asia|         SAS|                null|               null|                null|\n",
      "|        Saudi Arabia|         SAU|Middle East & Nor...|        High income|  3.6267625851774166|\n",
      "|               Sudan|         SDN|  Sub-Saharan Africa|Lower middle income|   2.951071882335504|\n",
      "|             Senegal|         SEN|  Sub-Saharan Africa|Lower middle income|   2.754684480647435|\n",
      "|           Singapore|         SGP| East Asia & Pacific|        High income|   2.148606489203282|\n",
      "|     Solomon Islands|         SLB| East Asia & Pacific|Lower middle income|  2.9514452059865377|\n",
      "|        Sierra Leone|         SLE|  Sub-Saharan Africa|         Low income|  2.0484509115500824|\n",
      "|         El Salvador|         SLV|Latin America & C...|Lower middle income|  1.4740903226926727|\n",
      "|          San Marino|         SMR|Europe & Central ...|        High income|  1.3694486349701527|\n",
      "|             Somalia|         SOM|  Sub-Saharan Africa|         Low income|  2.9075995632351623|\n",
      "|              Serbia|         SRB|Europe & Central ...|Upper middle income|                null|\n",
      "|Sub-Saharan Afric...|         SSA|                null|               null|                null|\n",
      "|         South Sudan|         SSD|  Sub-Saharan Africa|         Low income|  2.3199778684605126|\n",
      "|  Sub-Saharan Africa|         SSF|                null|               null|                null|\n",
      "|        Small states|         SST|                null|               null|                null|\n",
      "|Sao Tome and Prin...|         STP|  Sub-Saharan Africa|Lower middle income|  2.0350830227626457|\n",
      "|            Suriname|         SUR|Latin America & C...|Upper middle income|   1.224060488782687|\n",
      "|     Slovak Republic|         SVK|Europe & Central ...|        High income|    0.50950227464436|\n",
      "|            Slovenia|         SVN|Europe & Central ...|        High income| 0.46591404985553575|\n",
      "|              Sweden|         SWE|Europe & Central ...|        High income|  0.5331900275719291|\n",
      "|            Eswatini|         SWZ|  Sub-Saharan Africa|Lower middle income|   2.096808627916644|\n",
      "|Sint Maarten (Dut...|         SXM|Latin America & C...|        High income|                null|\n",
      "|          Seychelles|         SYC|  Sub-Saharan Africa|        High income|                null|\n",
      "|Syrian Arab Republic|         SYR|Middle East & Nor...|         Low income|   2.269937195070315|\n",
      "|Turks and Caicos ...|         TCA|Latin America & C...|        High income|   3.186531019918735|\n",
      "|                Chad|         TCD|  Sub-Saharan Africa|         Low income|  2.8123052913402913|\n",
      "|East Asia & Pacif...|         TEA|                null|               null|                null|\n",
      "|Europe & Central ...|         TEC|                null|               null|                null|\n",
      "|                Togo|         TGO|  Sub-Saharan Africa|         Low income|   2.747465210682737|\n",
      "|            Thailand|         THA| East Asia & Pacific|Upper middle income|   1.626058807289893|\n",
      "|          Tajikistan|         TJK|Europe & Central ...|         Low income|   2.550833367118104|\n",
      "|        Turkmenistan|         TKM|Europe & Central ...|Upper middle income|  2.2509776369527907|\n",
      "|Latin America & t...|         TLA|                null|               null|                null|\n",
      "|         Timor-Leste|         TLS| East Asia & Pacific|Lower middle income|  1.6943261044166826|\n",
      "|Middle East & Nor...|         TMN|                null|               null|                null|\n",
      "|               Tonga|         TON| East Asia & Pacific|Upper middle income|    0.92344367506336|\n",
      "|South Asia (IDA &...|         TSA|                null|               null|                null|\n",
      "|Sub-Saharan Afric...|         TSS|                null|               null|                null|\n",
      "| Trinidad and Tobago|         TTO|Latin America & C...|        High income|  0.8757860823397549|\n",
      "|             Tunisia|         TUN|Middle East & Nor...|Lower middle income|  1.7473132104420435|\n",
      "|              Turkey|         TUR|Europe & Central ...|Upper middle income|  1.9015030105758162|\n",
      "|              Tuvalu|         TUV| East Asia & Pacific|Upper middle income|   1.317008782656453|\n",
      "|            Tanzania|         TZA|  Sub-Saharan Africa|         Low income|   2.969330955681602|\n",
      "|              Uganda|         UGA|  Sub-Saharan Africa|         Low income|  3.1743393552382893|\n",
      "|             Ukraine|         UKR|Europe & Central ...|Lower middle income|  0.0973231853143515|\n",
      "| Upper middle income|         UMC|                null|               null|                null|\n",
      "|             Uruguay|         URY|Latin America & C...|        High income|  0.5421666024526827|\n",
      "|       United States|         USA|       North America|        High income|   1.035278475400047|\n",
      "|          Uzbekistan|         UZB|Europe & Central ...|Lower middle income|   2.347212525658212|\n",
      "|St. Vincent and t...|         VCT|Latin America & C...|Upper middle income|   0.550714211501525|\n",
      "|       Venezuela, RB|         VEN|Latin America & C...|Upper middle income|   2.207192552869544|\n",
      "|British Virgin Is...|         VGB|Latin America & C...|        High income|   2.241373512956287|\n",
      "|Virgin Islands (U...|         VIR|Latin America & C...|        High income|   2.099367209491469|\n",
      "|             Vietnam|         VNM| East Asia & Pacific|Lower middle income|  1.8699981339019671|\n",
      "|             Vanuatu|         VUT| East Asia & Pacific|Lower middle income|   2.636221510447161|\n",
      "|               World|         WLD|                null|               null|                null|\n",
      "|               Samoa|         WSM| East Asia & Pacific|Upper middle income|  1.0530664906343992|\n",
      "|              Kosovo|         XKX|Europe & Central ...|Upper middle income|  1.1650261221970024|\n",
      "|         Yemen, Rep.|         YEM|Middle East & Nor...|         Low income|  2.8701683277583707|\n",
      "|        South Africa|         ZAF|  Sub-Saharan Africa|Upper middle income|   2.104643390849511|\n",
      "|              Zambia|         ZMB|  Sub-Saharan Africa|Lower middle income|   2.986142170227116|\n",
      "|            Zimbabwe|         ZWE|  Sub-Saharan Africa|Lower middle income|  2.3289225820373596|\n",
      "+--------------------+------------+--------------------+-------------------+--------------------+\n",
      "\n"
     ]
    }
   ],
   "source": [
    "df_summary.show(df_summary.count())"
   ]
  },
  {
   "cell_type": "markdown",
   "metadata": {},
   "source": [
    "## Use the filter function to show the records that have a null average growth."
   ]
  },
  {
   "cell_type": "code",
   "execution_count": 16,
   "metadata": {
    "scrolled": true
   },
   "outputs": [
    {
     "name": "stdout",
     "output_type": "stream",
     "text": [
      "+--------------------+\n",
      "|        Country_name|\n",
      "+--------------------+\n",
      "|          Arab World|\n",
      "|Central Europe an...|\n",
      "|Caribbean small s...|\n",
      "|East Asia & Pacif...|\n",
      "|Early-demographic...|\n",
      "| East Asia & Pacific|\n",
      "|Europe & Central ...|\n",
      "|Europe & Central ...|\n",
      "|           Euro area|\n",
      "|             Eritrea|\n",
      "|      European Union|\n",
      "|Fragile and confl...|\n",
      "|         High income|\n",
      "|Heavily indebted ...|\n",
      "|           IBRD only|\n",
      "|    IDA & IBRD total|\n",
      "|           IDA total|\n",
      "|           IDA blend|\n",
      "|            IDA only|\n",
      "|              Kuwait|\n",
      "|Latin America & C...|\n",
      "|Latin America & C...|\n",
      "|Least developed c...|\n",
      "|          Low income|\n",
      "| Lower middle income|\n",
      "| Low & middle income|\n",
      "|Late-demographic ...|\n",
      "|Middle East & Nor...|\n",
      "|       Middle income|\n",
      "|Middle East & Nor...|\n",
      "|       North America|\n",
      "|         New Zealand|\n",
      "|        OECD members|\n",
      "|  Other small states|\n",
      "|Pre-demographic d...|\n",
      "|  West Bank and Gaza|\n",
      "|Pacific island sm...|\n",
      "|Post-demographic ...|\n",
      "|          South Asia|\n",
      "|              Serbia|\n",
      "|Sub-Saharan Afric...|\n",
      "|  Sub-Saharan Africa|\n",
      "|        Small states|\n",
      "|Sint Maarten (Dut...|\n",
      "|          Seychelles|\n",
      "|East Asia & Pacif...|\n",
      "|Europe & Central ...|\n",
      "|Latin America & t...|\n",
      "|Middle East & Nor...|\n",
      "|South Asia (IDA &...|\n",
      "|Sub-Saharan Afric...|\n",
      "| Upper middle income|\n",
      "|               World|\n",
      "+--------------------+\n",
      "\n"
     ]
    }
   ],
   "source": [
    "df_summary.filter(df_summary.Avg_Growth.isNull()).select(['Country_name']).show(df_summary.count())"
   ]
  },
  {
   "cell_type": "code",
   "execution_count": 17,
   "metadata": {},
   "outputs": [
    {
     "data": {
      "text/plain": [
       "53"
      ]
     },
     "execution_count": 17,
     "metadata": {},
     "output_type": "execute_result"
    }
   ],
   "source": [
    "df_summary.filter(df_summary.Avg_Growth.isNull()).count()"
   ]
  },
  {
   "cell_type": "markdown",
   "metadata": {},
   "source": [
    "## Use the where clause to show all the records that have a non-null average growth rate."
   ]
  },
  {
   "cell_type": "code",
   "execution_count": 18,
   "metadata": {},
   "outputs": [
    {
     "name": "stdout",
     "output_type": "stream",
     "text": [
      "+--------------------+\n",
      "|        Country_name|\n",
      "+--------------------+\n",
      "|               Aruba|\n",
      "|         Afghanistan|\n",
      "|              Angola|\n",
      "|             Albania|\n",
      "|             Andorra|\n",
      "|United Arab Emirates|\n",
      "|           Argentina|\n",
      "|             Armenia|\n",
      "|      American Samoa|\n",
      "| Antigua and Barbuda|\n",
      "|           Australia|\n",
      "|             Austria|\n",
      "|          Azerbaijan|\n",
      "|             Burundi|\n",
      "|             Belgium|\n",
      "|               Benin|\n",
      "|        Burkina Faso|\n",
      "|          Bangladesh|\n",
      "|            Bulgaria|\n",
      "|             Bahrain|\n",
      "|        Bahamas, The|\n",
      "|Bosnia and Herzeg...|\n",
      "|             Belarus|\n",
      "|              Belize|\n",
      "|             Bermuda|\n",
      "|             Bolivia|\n",
      "|              Brazil|\n",
      "|            Barbados|\n",
      "|   Brunei Darussalam|\n",
      "|              Bhutan|\n",
      "|            Botswana|\n",
      "|Central African R...|\n",
      "|              Canada|\n",
      "|         Switzerland|\n",
      "|     Channel Islands|\n",
      "|               Chile|\n",
      "|               China|\n",
      "|       Cote d'Ivoire|\n",
      "|            Cameroon|\n",
      "|    Congo, Dem. Rep.|\n",
      "|         Congo, Rep.|\n",
      "|            Colombia|\n",
      "|             Comoros|\n",
      "|          Cabo Verde|\n",
      "|          Costa Rica|\n",
      "|                Cuba|\n",
      "|             Curacao|\n",
      "|      Cayman Islands|\n",
      "|              Cyprus|\n",
      "|      Czech Republic|\n",
      "|             Germany|\n",
      "|            Djibouti|\n",
      "|            Dominica|\n",
      "|             Denmark|\n",
      "|  Dominican Republic|\n",
      "|             Algeria|\n",
      "|             Ecuador|\n",
      "|    Egypt, Arab Rep.|\n",
      "|               Spain|\n",
      "|             Estonia|\n",
      "|            Ethiopia|\n",
      "|             Finland|\n",
      "|                Fiji|\n",
      "|              France|\n",
      "|       Faroe Islands|\n",
      "|Micronesia, Fed. ...|\n",
      "|               Gabon|\n",
      "|      United Kingdom|\n",
      "|             Georgia|\n",
      "|               Ghana|\n",
      "|           Gibraltar|\n",
      "|              Guinea|\n",
      "|         Gambia, The|\n",
      "|       Guinea-Bissau|\n",
      "|   Equatorial Guinea|\n",
      "|              Greece|\n",
      "|             Grenada|\n",
      "|           Greenland|\n",
      "|           Guatemala|\n",
      "|                Guam|\n",
      "|              Guyana|\n",
      "|Hong Kong SAR, China|\n",
      "|            Honduras|\n",
      "|             Croatia|\n",
      "|               Haiti|\n",
      "|             Hungary|\n",
      "|           Indonesia|\n",
      "|         Isle of Man|\n",
      "|               India|\n",
      "|             Ireland|\n",
      "|  Iran, Islamic Rep.|\n",
      "|                Iraq|\n",
      "|             Iceland|\n",
      "|              Israel|\n",
      "|               Italy|\n",
      "|             Jamaica|\n",
      "|              Jordan|\n",
      "|               Japan|\n",
      "|          Kazakhstan|\n",
      "|               Kenya|\n",
      "|     Kyrgyz Republic|\n",
      "|            Cambodia|\n",
      "|            Kiribati|\n",
      "| St. Kitts and Nevis|\n",
      "|         Korea, Rep.|\n",
      "|             Lao PDR|\n",
      "|             Lebanon|\n",
      "|             Liberia|\n",
      "|               Libya|\n",
      "|           St. Lucia|\n",
      "|       Liechtenstein|\n",
      "|           Sri Lanka|\n",
      "|             Lesotho|\n",
      "|           Lithuania|\n",
      "|          Luxembourg|\n",
      "|              Latvia|\n",
      "|    Macao SAR, China|\n",
      "|St. Martin (Frenc...|\n",
      "|             Morocco|\n",
      "|              Monaco|\n",
      "|             Moldova|\n",
      "|          Madagascar|\n",
      "|            Maldives|\n",
      "|              Mexico|\n",
      "|    Marshall Islands|\n",
      "|     North Macedonia|\n",
      "|                Mali|\n",
      "|               Malta|\n",
      "|             Myanmar|\n",
      "|          Montenegro|\n",
      "|            Mongolia|\n",
      "|Northern Mariana ...|\n",
      "|          Mozambique|\n",
      "|          Mauritania|\n",
      "|           Mauritius|\n",
      "|              Malawi|\n",
      "|            Malaysia|\n",
      "|             Namibia|\n",
      "|       New Caledonia|\n",
      "|               Niger|\n",
      "|             Nigeria|\n",
      "|           Nicaragua|\n",
      "|         Netherlands|\n",
      "|              Norway|\n",
      "|               Nepal|\n",
      "|               Nauru|\n",
      "|                Oman|\n",
      "|            Pakistan|\n",
      "|              Panama|\n",
      "|                Peru|\n",
      "|         Philippines|\n",
      "|               Palau|\n",
      "|    Papua New Guinea|\n",
      "|              Poland|\n",
      "|         Puerto Rico|\n",
      "|Korea, Dem. Peopl...|\n",
      "|            Portugal|\n",
      "|            Paraguay|\n",
      "|    French Polynesia|\n",
      "|               Qatar|\n",
      "|             Romania|\n",
      "|  Russian Federation|\n",
      "|              Rwanda|\n",
      "|        Saudi Arabia|\n",
      "|               Sudan|\n",
      "|             Senegal|\n",
      "|           Singapore|\n",
      "|     Solomon Islands|\n",
      "|        Sierra Leone|\n",
      "|         El Salvador|\n",
      "|          San Marino|\n",
      "|             Somalia|\n",
      "|         South Sudan|\n",
      "|Sao Tome and Prin...|\n",
      "|            Suriname|\n",
      "|     Slovak Republic|\n",
      "|            Slovenia|\n",
      "|              Sweden|\n",
      "|            Eswatini|\n",
      "|Syrian Arab Republic|\n",
      "|Turks and Caicos ...|\n",
      "|                Chad|\n",
      "|                Togo|\n",
      "|            Thailand|\n",
      "|          Tajikistan|\n",
      "|        Turkmenistan|\n",
      "|         Timor-Leste|\n",
      "|               Tonga|\n",
      "| Trinidad and Tobago|\n",
      "|             Tunisia|\n",
      "|              Turkey|\n",
      "|              Tuvalu|\n",
      "|            Tanzania|\n",
      "|              Uganda|\n",
      "|             Ukraine|\n",
      "|             Uruguay|\n",
      "|       United States|\n",
      "|          Uzbekistan|\n",
      "|St. Vincent and t...|\n",
      "|       Venezuela, RB|\n",
      "|British Virgin Is...|\n",
      "|Virgin Islands (U...|\n",
      "|             Vietnam|\n",
      "|             Vanuatu|\n",
      "|               Samoa|\n",
      "|              Kosovo|\n",
      "|         Yemen, Rep.|\n",
      "|        South Africa|\n",
      "|              Zambia|\n",
      "|            Zimbabwe|\n",
      "+--------------------+\n",
      "\n"
     ]
    }
   ],
   "source": [
    "df_summary.where(df_summary.Avg_Growth.isNotNull()).select(['Country_name']).show(df_summary.count())"
   ]
  },
  {
   "cell_type": "code",
   "execution_count": 19,
   "metadata": {},
   "outputs": [
    {
     "data": {
      "text/plain": [
       "210"
      ]
     },
     "execution_count": 19,
     "metadata": {},
     "output_type": "execute_result"
    }
   ],
   "source": [
    "df_summary.where(df_summary.Avg_Growth.isNotNull()).count()"
   ]
  },
  {
   "cell_type": "markdown",
   "metadata": {},
   "source": [
    "## Aggregation\n",
    "\n",
    "Remove data with null values in avg_growth before using aggregation"
   ]
  },
  {
   "cell_type": "code",
   "execution_count": 20,
   "metadata": {},
   "outputs": [],
   "source": [
    "spark.catalog.dropTempView(\"df_temp\")\n",
    "df_summary.createOrReplaceTempView('df_temp')\n",
    "query='''\n",
    "        select \n",
    "            Country_name,\n",
    "            Country_code,\n",
    "            region,\n",
    "            IncomeGroup,\n",
    "            Avg_Growth\n",
    "        from df_temp \n",
    "        where Avg_Growth IS NOT NULL'''\n",
    "\n",
    "df_non_null_data=spark.sql(query)"
   ]
  },
  {
   "cell_type": "code",
   "execution_count": 21,
   "metadata": {},
   "outputs": [
    {
     "name": "stdout",
     "output_type": "stream",
     "text": [
      "+--------------------------+------------------+\n",
      "|Region                    |avg(Avg_Growth)   |\n",
      "+--------------------------+------------------+\n",
      "|Latin America & Caribbean |1.6452694401063142|\n",
      "|South Asia                |2.168074728144582 |\n",
      "|Sub-Saharan Africa        |2.5458202108397052|\n",
      "|Europe & Central Asia     |0.762773237720641 |\n",
      "|Middle East & North Africa|3.2223036268827836|\n",
      "|East Asia & Pacific       |1.8463231979647594|\n",
      "|North America             |0.9849502783965404|\n",
      "+--------------------------+------------------+\n",
      "\n"
     ]
    }
   ],
   "source": [
    "df_non_null_data.groupBy('Region').agg(F.mean('Avg_Growth')).show(truncate=False)"
   ]
  },
  {
   "cell_type": "code",
   "execution_count": 22,
   "metadata": {},
   "outputs": [
    {
     "name": "stdout",
     "output_type": "stream",
     "text": [
      "+-------------------+------------------+\n",
      "|IncomeGroup        |avg(Avg_Growth)   |\n",
      "+-------------------+------------------+\n",
      "|High income        |1.3999248336438435|\n",
      "|Low income         |2.494096718841889 |\n",
      "|Lower middle income|2.2367045075714262|\n",
      "|Upper middle income|1.5818141110861337|\n",
      "+-------------------+------------------+\n",
      "\n"
     ]
    }
   ],
   "source": [
    "df_non_null_data.groupBy('IncomeGroup').agg(F.mean('Avg_Growth')).show(truncate=False)"
   ]
  },
  {
   "cell_type": "code",
   "execution_count": 23,
   "metadata": {},
   "outputs": [
    {
     "name": "stdout",
     "output_type": "stream",
     "text": [
      "+--------------------------+-------------------+------------------+\n",
      "|Region                    |IncomeGroup        |avg(Avg_Growth)   |\n",
      "+--------------------------+-------------------+------------------+\n",
      "|East Asia & Pacific       |Lower middle income|2.0596108795335195|\n",
      "|East Asia & Pacific       |Low income         |1.4061451310647322|\n",
      "|East Asia & Pacific       |Upper middle income|1.596952527769122 |\n",
      "|East Asia & Pacific       |High income        |1.8597519403366365|\n",
      "|Europe & Central Asia     |Upper middle income|0.7788090060194871|\n",
      "|Europe & Central Asia     |High income        |0.6576877232632173|\n",
      "|Europe & Central Asia     |Lower middle income|1.2276650829817717|\n",
      "|Europe & Central Asia     |Low income         |2.550833367118104 |\n",
      "|Latin America & Caribbean |Low income         |1.8239932185851366|\n",
      "|Latin America & Caribbean |Upper middle income|1.568635940496616 |\n",
      "|Latin America & Caribbean |High income        |1.6196206675109663|\n",
      "|Latin America & Caribbean |Lower middle income|2.0863510839164916|\n",
      "|Middle East & North Africa|Lower middle income|2.524414718628422 |\n",
      "|Middle East & North Africa|Upper middle income|2.7519820917143463|\n",
      "|Middle East & North Africa|High income        |4.2105874233063485|\n",
      "|Middle East & North Africa|Low income         |2.5700527614143427|\n",
      "|North America             |High income        |0.9849502783965404|\n",
      "|South Asia                |Low income         |2.0976366880237083|\n",
      "|South Asia                |Lower middle income|2.192872990301251 |\n",
      "|South Asia                |Upper middle income|2.1889162439521157|\n",
      "+--------------------------+-------------------+------------------+\n",
      "only showing top 20 rows\n",
      "\n"
     ]
    }
   ],
   "source": [
    "#from pyspark.sql.functions import desc\n",
    "df_non_null_data.groupBy('Region', 'IncomeGroup').agg(F.mean('Avg_Growth')).sort('Region').show(truncate=False)"
   ]
  },
  {
   "cell_type": "markdown",
   "metadata": {},
   "source": [
    "## Collect set"
   ]
  },
  {
   "cell_type": "code",
   "execution_count": 26,
   "metadata": {},
   "outputs": [
    {
     "name": "stdout",
     "output_type": "stream",
     "text": [
      "+--------------------------+-------------------------------------------------------------------+\n",
      "|Region                    |collect_set(IncomeGroup)                                           |\n",
      "+--------------------------+-------------------------------------------------------------------+\n",
      "|Latin America & Caribbean |[Lower middle income, High income, Upper middle income, Low income]|\n",
      "|South Asia                |[Lower middle income, Upper middle income, Low income]             |\n",
      "|Sub-Saharan Africa        |[Lower middle income, Upper middle income, Low income]             |\n",
      "|Europe & Central Asia     |[Lower middle income, High income, Upper middle income, Low income]|\n",
      "|Middle East & North Africa|[Lower middle income, High income, Upper middle income, Low income]|\n",
      "|East Asia & Pacific       |[Lower middle income, High income, Upper middle income, Low income]|\n",
      "|North America             |[High income]                                                      |\n",
      "+--------------------------+-------------------------------------------------------------------+\n",
      "\n"
     ]
    }
   ],
   "source": [
    "df_non_null_data.groupBy('Region').agg(F.collect_set('IncomeGroup')).show(truncate=False)"
   ]
  },
  {
   "cell_type": "markdown",
   "metadata": {},
   "source": [
    "## Collect list"
   ]
  },
  {
   "cell_type": "code",
   "execution_count": 25,
   "metadata": {},
   "outputs": [
    {
     "name": "stdout",
     "output_type": "stream",
     "text": [
      "+--------------------------+----------------------------------------------------------------------------------------------------------------------------------------------------------------------------------------------------------------------------------------------------------------------------------------------------------------------------------------------------------------------------------------------------------------------------------------------------------------------------------------------------------------------------------------------------------------------------------------------------------------------------------------------------------------------------------------------------------------------------------------------------------------------------------------------------------------------------------------------------------------------------------------------------------------------------+\n",
      "|Region                    |collect_list(IncomeGroup)                                                                                                                                                                                                                                                                                                                                                                                                                                                                                                                                                                                                                                                                                                                                                                                                                                                                                                   |\n",
      "+--------------------------+----------------------------------------------------------------------------------------------------------------------------------------------------------------------------------------------------------------------------------------------------------------------------------------------------------------------------------------------------------------------------------------------------------------------------------------------------------------------------------------------------------------------------------------------------------------------------------------------------------------------------------------------------------------------------------------------------------------------------------------------------------------------------------------------------------------------------------------------------------------------------------------------------------------------------+\n",
      "|Latin America & Caribbean |[High income, Upper middle income, High income, High income, Upper middle income, Lower middle income, Upper middle income, High income, High income, Upper middle income, Upper middle income, Upper middle income, High income, High income, Upper middle income, Upper middle income, Upper middle income, Upper middle income, Upper middle income, Upper middle income, Lower middle income, Low income, Upper middle income, High income, Upper middle income, High income, Upper middle income, Lower middle income, High income, Upper middle income, High income, Upper middle income, Lower middle income, Upper middle income, High income, High income, High income, Upper middle income, Upper middle income, High income, High income]                                                                                                                                                                        |\n",
      "|South Asia                |[Low income, Lower middle income, Lower middle income, Lower middle income, Upper middle income, Upper middle income, Low income, Lower middle income]                                                                                                                                                                                                                                                                                                                                                                                                                                                                                                                                                                                                                                                                                                                                                                      |\n",
      "|Sub-Saharan Africa        |[Lower middle income, Low income, Low income, Low income, Upper middle income, Low income, Lower middle income, Lower middle income, Low income, Lower middle income, Lower middle income, Lower middle income, Low income, Upper middle income, Lower middle income, Low income, Low income, Low income, Upper middle income, Lower middle income, Low income, Lower middle income, Low income, Low income, Low income, Lower middle income, Upper middle income, Low income, Upper middle income, Low income, Lower middle income, Low income, Lower middle income, Lower middle income, Low income, Low income, Low income, Lower middle income, Lower middle income, Low income, Low income, Low income, Low income, Upper middle income, Lower middle income, Lower middle income]                                                                                                                                     |\n",
      "|Europe & Central Asia     |[Upper middle income, High income, Upper middle income, High income, Upper middle income, High income, Upper middle income, Upper middle income, Upper middle income, High income, High income, High income, High income, High income, High income, High income, High income, High income, High income, High income, High income, Upper middle income, High income, High income, High income, High income, High income, High income, High income, High income, High income, Upper middle income, Lower middle income, High income, High income, High income, High income, High income, Lower middle income, Upper middle income, Upper middle income, High income, High income, High income, High income, Upper middle income, Upper middle income, High income, High income, High income, High income, Low income, Upper middle income, Upper middle income, Lower middle income, Lower middle income, Upper middle income]|\n",
      "|Middle East & North Africa|[High income, High income, Lower middle income, Upper middle income, Lower middle income, Upper middle income, Upper middle income, High income, Upper middle income, Upper middle income, Upper middle income, Lower middle income, High income, High income, High income, High income, Low income, Lower middle income, Low income]                                                                                                                                                                                                                                                                                                                                                                                                                                                                                                                                                                                       |\n",
      "|East Asia & Pacific       |[Upper middle income, High income, High income, Upper middle income, Upper middle income, Lower middle income, High income, High income, Lower middle income, High income, Lower middle income, Lower middle income, High income, Lower middle income, High income, Upper middle income, Lower middle income, Lower middle income, High income, Upper middle income, High income, Upper middle income, Lower middle income, High income, Lower middle income, Low income, High income, High income, Lower middle income, Upper middle income, Lower middle income, Upper middle income, Upper middle income, Lower middle income, Lower middle income, Upper middle income]                                                                                                                                                                                                                                                 |\n",
      "|North America             |[High income, High income, High income]                                                                                                                                                                                                                                                                                                                                                                                                                                                                                                                                                                                                                                                                                                                                                                                                                                                                                     |\n",
      "+--------------------------+----------------------------------------------------------------------------------------------------------------------------------------------------------------------------------------------------------------------------------------------------------------------------------------------------------------------------------------------------------------------------------------------------------------------------------------------------------------------------------------------------------------------------------------------------------------------------------------------------------------------------------------------------------------------------------------------------------------------------------------------------------------------------------------------------------------------------------------------------------------------------------------------------------------------------+\n",
      "\n"
     ]
    }
   ],
   "source": [
    "df_non_null_data.groupBy('Region').agg(F.collect_list('IncomeGroup')).show(truncate=False)"
   ]
  }
 ],
 "metadata": {
  "kernelspec": {
   "display_name": "Python 3",
   "language": "python",
   "name": "python3"
  },
  "language_info": {
   "codemirror_mode": {
    "name": "ipython",
    "version": 3
   },
   "file_extension": ".py",
   "mimetype": "text/x-python",
   "name": "python",
   "nbconvert_exporter": "python",
   "pygments_lexer": "ipython3",
   "version": "3.7.4"
  }
 },
 "nbformat": 4,
 "nbformat_minor": 2
}
