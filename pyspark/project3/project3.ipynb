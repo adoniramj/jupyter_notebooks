{
 "cells": [
  {
   "cell_type": "markdown",
   "metadata": {},
   "source": [
    "# Final Project CAP 4784"
   ]
  },
  {
   "cell_type": "code",
   "execution_count": 1,
   "metadata": {},
   "outputs": [],
   "source": [
    "from pyspark.sql import SparkSession"
   ]
  },
  {
   "cell_type": "code",
   "execution_count": 2,
   "metadata": {},
   "outputs": [],
   "source": [
    "import pyspark.sql.functions as F"
   ]
  },
  {
   "cell_type": "code",
   "execution_count": 3,
   "metadata": {},
   "outputs": [],
   "source": [
    "from pyspark.sql.types import *"
   ]
  },
  {
   "cell_type": "markdown",
   "metadata": {},
   "source": [
    "### Import growth_data.csv"
   ]
  },
  {
   "cell_type": "code",
   "execution_count": 4,
   "metadata": {},
   "outputs": [],
   "source": [
    "df_data=spark.read.csv('growth_data.csv' \\\n",
    "                      ,header=True \\\n",
    "                      ,inferSchema=True)"
   ]
  },
  {
   "cell_type": "code",
   "execution_count": 5,
   "metadata": {},
   "outputs": [
    {
     "data": {
      "text/plain": [
       "264"
      ]
     },
     "execution_count": 5,
     "metadata": {},
     "output_type": "execute_result"
    }
   ],
   "source": [
    "# Verify data was imported.\n",
    "df_data.count()"
   ]
  },
  {
   "cell_type": "code",
   "execution_count": 6,
   "metadata": {},
   "outputs": [],
   "source": [
    "# Verify schema of df_data\n",
    "# df_data.printSchema()"
   ]
  },
  {
   "cell_type": "code",
   "execution_count": 7,
   "metadata": {},
   "outputs": [],
   "source": [
    "# df_data.fillna('0').show()\n",
    "#df_data.na.drop().show()"
   ]
  },
  {
   "cell_type": "markdown",
   "metadata": {},
   "source": [
    "### Import country_codes.csv"
   ]
  },
  {
   "cell_type": "code",
   "execution_count": 8,
   "metadata": {},
   "outputs": [],
   "source": [
    "df_countries=spark.read.csv('country_codes.csv' \\\n",
    "                           ,header=True \\\n",
    "                           ,inferSchema=True)"
   ]
  },
  {
   "cell_type": "code",
   "execution_count": 9,
   "metadata": {},
   "outputs": [
    {
     "data": {
      "text/plain": [
       "263"
      ]
     },
     "execution_count": 9,
     "metadata": {},
     "output_type": "execute_result"
    }
   ],
   "source": [
    "# Verify country_codes.csv was imported\n",
    "df_countries.count()"
   ]
  },
  {
   "cell_type": "code",
   "execution_count": 10,
   "metadata": {},
   "outputs": [],
   "source": [
    "# Verify schema of df_countries\n",
    "df_countries.printSchema()"
   ]
  },
  {
   "cell_type": "markdown",
   "metadata": {},
   "source": [
    "### Join df_data and df_countries"
   ]
  },
  {
   "cell_type": "code",
   "execution_count": 11,
   "metadata": {},
   "outputs": [],
   "source": [
    "df_combined=df_data.join(df_countries,on='Country_Code')"
   ]
  },
  {
   "cell_type": "code",
   "execution_count": 12,
   "metadata": {},
   "outputs": [],
   "source": [
    "df_combined.printSchema()"
   ]
  },
  {
   "cell_type": "markdown",
   "metadata": {},
   "source": [
    "### Using UDF to calculate the average growth per record"
   ]
  },
  {
   "cell_type": "code",
   "execution_count": 28,
   "metadata": {},
   "outputs": [],
   "source": [
    "from pyspark.sql.functions import col\n",
    "\n",
    "marksColumns = [col('1960'), col('1961'),col('1962'),col('1963'),col('1964'),col('1965'),col('1966'),col('1967') \\\n",
    "               ,col('1968'),col('1969'),col('1970'),col('1971'),col('1972'),col('1973'),col('1974'),col('1975') \\\n",
    "               ,col('1976'),col('1977'),col('1978'),col('1979'),col('1980'),col('1981'),col('1982'),col('1983') \\\n",
    "               ,col('1984'),col('1985'),col('1986'),col('1987'),col('1988'),col('1989'),col('1990'),col('1991') \\\n",
    "               ,col('1992'), col('1993'),col('1994'),col('1995'),col('1996'),col('1997') \\\n",
    "               ,col('1998'), col('1999'),col('2000'),col('2001'),col('2002'),col('2003'),col('2004'),col('2005') \\\n",
    "               ,col('2006'),col('2007'),col('2008'),col('2009'),col('2010'),col('2011'),col('2012'),col('2013') \\\n",
    "               ,col('2014'),col('2015'),col('2016'),col('2017'),col('2018')]\n",
    "\n",
    "averageFunc = sum(x for x in marksColumns)/len(marksColumns)\n",
    "\n",
    "df_average=df_combined.withColumn('Result(Avg)', averageFunc)"
   ]
  },
  {
   "cell_type": "code",
   "execution_count": 29,
   "metadata": {},
   "outputs": [
    {
     "name": "stdout",
     "output_type": "stream",
     "text": [
      "+------------+--------------------+\n",
      "|Country_Code|         Result(Avg)|\n",
      "+------------+--------------------+\n",
      "|         ABW|  1.1874106581084072|\n",
      "|         AFG|   2.435532836257381|\n",
      "|         AGO|  2.9576449299854315|\n",
      "|         ALB|   1.030024042742419|\n",
      "|         AND|  3.0818893379473686|\n",
      "|         ARB|                null|\n",
      "|         ARE|  7.9739998445704146|\n",
      "|         ARG|  1.3429565033807718|\n",
      "|         ARM|  0.8309020718417667|\n",
      "|         ASM|  1.7438285869556542|\n",
      "|         ATG|   1.004800500788169|\n",
      "|         AUS|  1.5447155198103075|\n",
      "|         AUT|  0.3940883330164894|\n",
      "|         AZE|  1.6443548113937243|\n",
      "|         BDI|   2.380657361464993|\n",
      "|         BEL| 0.38642249242742616|\n",
      "|         BEN|    2.65343112351896|\n",
      "|         BFA|  2.4103854162630385|\n",
      "|         BGD|  2.1014523921056996|\n",
      "|         BGR|-0.17598535868735332|\n",
      "|         BHR|  3.9044899934951203|\n",
      "|         BHS|   2.214459234758373|\n",
      "|         BIH|  0.0829386435497023|\n",
      "|         BLR|  0.2637897630191854|\n",
      "|         BLZ|  2.4645651921957117|\n",
      "|         BMU|  0.6480643351340484|\n",
      "|         BOL|  1.9528503062387026|\n",
      "|         BRA|   1.854781572196185|\n",
      "|         BRB|  0.3701778853349476|\n",
      "|         BRN|   2.891928267720927|\n",
      "|         BTN|  2.1055946392832188|\n",
      "|         BWA|  2.5729847914499393|\n",
      "|         CAF|  1.9478562686758398|\n",
      "|         CAN|  1.2715080246555255|\n",
      "|         CEB|                null|\n",
      "|         CHE|  0.8318470883179961|\n",
      "|         CHI|  0.7656760515560592|\n",
      "|         CHL|  1.4491240140728974|\n",
      "|         CHN|  1.2787369789766616|\n",
      "|         CIV|  3.3925584576927648|\n",
      "|         CMR|    2.71748956142525|\n",
      "|         COD|   2.935867038931991|\n",
      "|         COG|  2.8179159814166876|\n",
      "|         COL|  1.9660538506593772|\n",
      "|         COM|  2.5207823694285945|\n",
      "|         CPV|  1.7001655319445583|\n",
      "|         CRI|   2.305965231347022|\n",
      "|         CSS|                null|\n",
      "|         CUB|  0.8161768451269125|\n",
      "|         CUW|  0.4316373790710421|\n",
      "|         CYM|  3.6004771675673486|\n",
      "|         CYP|  1.2555248535415537|\n",
      "|         CZE| 0.19384435136371986|\n",
      "|         DEU| 0.23369136088394313|\n",
      "|         DJI|   4.218038671046437|\n",
      "|         DMA| 0.33089769438181904|\n",
      "|         DNK|  0.4109456765276159|\n",
      "|         DOM|   2.042245338434088|\n",
      "|         DZA|   2.313732328962913|\n",
      "|         EAP|                null|\n",
      "|         EAR|                null|\n",
      "|         EAS|                null|\n",
      "|         ECA|                null|\n",
      "|         ECS|                null|\n",
      "|         ECU|   2.292510849648579|\n",
      "|         EGY|   2.261910021699141|\n",
      "|         EMU|                null|\n",
      "|         ERI|                null|\n",
      "|         ESP|  0.7444035804034607|\n",
      "|         EST| 0.15778754505237572|\n",
      "|         ETH|  2.7421127941250556|\n",
      "|         EUU|                null|\n",
      "|         FCS|                null|\n",
      "|         FIN| 0.38561734051551966|\n",
      "|         FJI|  1.4275187812691006|\n",
      "|         FRA|  0.6348006328826913|\n",
      "|         FRO|  0.5937291730973777|\n",
      "|         FSM|  1.6285361381076053|\n",
      "|         GAB|  2.4594451645288316|\n",
      "|         GBR|  0.4094764109419955|\n",
      "|         GEO| 0.07049637704259758|\n",
      "|         GHA|  2.5959750857942456|\n",
      "|         GIB|   0.637277700423785|\n",
      "|         GIN|  2.1763705150047454|\n",
      "|         GMB|  3.1398001996263587|\n",
      "|         GNB|  1.9058357875852465|\n",
      "|         GNQ|  2.7939648155434194|\n",
      "|         GRC|  0.4406495708597265|\n",
      "|         GRD| 0.39402634687636645|\n",
      "|         GRL|   0.990866084421487|\n",
      "|         GTM|   2.440081335344501|\n",
      "|         GUM|  1.5707185293123191|\n",
      "|         GUY|  0.5774329537352277|\n",
      "|         HIC|                null|\n",
      "|         HKG|  1.5751805538545949|\n",
      "|         HND|   2.671629112292579|\n",
      "|         HPC|                null|\n",
      "|         HRV|-0.01028148352810963|\n",
      "|         HTI|  1.8239932185851366|\n",
      "|         HUN|-0.03239550903416332|\n",
      "|         IBD|                null|\n",
      "|         IBT|                null|\n",
      "|         IDA|                null|\n",
      "|         IDB|                null|\n",
      "|         IDN|  1.9347044277146173|\n",
      "|         IDX|                null|\n",
      "|         IMN|   0.919158233647906|\n",
      "|         IND|   1.896513023070612|\n",
      "|         IRL|    0.91036008959831|\n",
      "|         IRN|   2.276613402631724|\n",
      "|         IRQ|  2.8587375736968412|\n",
      "|         ISL|  1.2169245072295845|\n",
      "|         ISR|  2.4967885944035335|\n",
      "|         ITA| 0.34819853356593655|\n",
      "|         JAM|  1.0187080038658836|\n",
      "|         JOR|   4.101173488786667|\n",
      "|         JPN|  0.5460230223913862|\n",
      "|         KAZ|   1.105652983440521|\n",
      "|         KEN|   3.179633658840498|\n",
      "|         KGZ|  1.8608271506593541|\n",
      "|         KHM|  1.8120794146277692|\n",
      "|         KIR|  1.7937353590271181|\n",
      "|         KNA| 0.04812313110951128|\n",
      "|         KOR|  1.2778077115593134|\n",
      "|         KWT|                null|\n",
      "|         LAC|                null|\n",
      "|         LAO|   2.077637931587408|\n",
      "|         LBN|  2.3154073950672847|\n",
      "|         LBR|   2.510491763540403|\n",
      "|         LBY|  2.6462283611406483|\n",
      "|         LCA|  1.2145841316259607|\n",
      "|         LCN|                null|\n",
      "|         LDC|                null|\n",
      "|         LIC|                null|\n",
      "|         LIE|  1.4489933631751248|\n",
      "|         LKA|  1.3727493723301487|\n",
      "|         LMC|                null|\n",
      "|         LMY|                null|\n",
      "|         LSO|  1.5958631473733729|\n",
      "|         LTE|                null|\n",
      "|         LTU| 0.03295793782592182|\n",
      "|         LUX|  1.1327159209581275|\n",
      "|         LVA|-0.15127092407344855|\n",
      "|         MAC|  2.2417768913721603|\n",
      "|         MAF|    3.87042898432524|\n",
      "|         MAR|  1.8703969713260635|\n",
      "|         MCO|  0.9584990496234724|\n",
      "|         MDA|  0.6052974702951692|\n",
      "|         MDG|  2.8182317772331023|\n",
      "|         MDV|  3.0050831155740827|\n",
      "|         MEA|                null|\n",
      "|         MEX|  2.0973147011743225|\n",
      "|         MHL|   2.374584655766638|\n",
      "|         MIC|                null|\n",
      "|         MKD|  0.5909040787859301|\n",
      "|         MLI|  2.2013790304294183|\n",
      "|         MLT|  0.7332144992235768|\n",
      "|         MMR|  1.5697380769315168|\n",
      "|         MNA|                null|\n",
      "|         MNE| 0.47095949751550864|\n",
      "|         MNG|  2.0758926902303183|\n",
      "|         MNP|   3.007693729259584|\n",
      "|         MOZ|  2.4292231985264188|\n",
      "|         MRT|  2.8363232311751365|\n",
      "|         MUS|  1.1532458434519908|\n",
      "|         MWI|  2.7527987798984586|\n",
      "|         MYS|    2.34363228097572|\n",
      "|         NAC|                null|\n",
      "|         NAM|   2.328644332152019|\n",
      "|         NCL|  2.2351776619453805|\n",
      "|         NER|   3.251522908398026|\n",
      "|         NGA|  2.5211856900348617|\n",
      "|         NIC|   2.246834594442012|\n",
      "|         NLD|  0.7204220796976111|\n",
      "|         NOR|  0.6832083609726789|\n",
      "|         NPL|  1.7597405397900359|\n",
      "|         NRU|   1.881646238103342|\n",
      "|         NZL|                null|\n",
      "|         OED|                null|\n",
      "|         OMN|   3.715534269437047|\n",
      "|         OSS|                null|\n",
      "|         PAK|  2.6679319067454745|\n",
      "|         PAN|    2.26122339004885|\n",
      "|         PER|  1.9921902824571243|\n",
      "|         PHL|  2.4315316579334674|\n",
      "|         PLW|  1.0769062210156481|\n",
      "|         PNG|   2.299094783023585|\n",
      "|         POL|    0.47685307944642|\n",
      "|         PRE|                null|\n",
      "|         PRI|  0.5308439078317496|\n",
      "|         PRK|  1.4061451310647322|\n",
      "|         PRT| 0.25350995041110036|\n",
      "|         PRY|  2.2402607243287096|\n",
      "|         PSE|                null|\n",
      "|         PSS|                null|\n",
      "|         PST|                null|\n",
      "|         PYF|   2.200488686594739|\n",
      "|         QAT|  7.0233221768373335|\n",
      "|         ROU|  0.1095922284912149|\n",
      "|         RUS| 0.34099918143148206|\n",
      "|         RWA|   2.471117830201884|\n",
      "|         SAS|                null|\n",
      "|         SAU|  3.6267625851774166|\n",
      "|         SDN|   2.951071882335504|\n",
      "|         SEN|   2.754684480647435|\n",
      "|         SGP|   2.148606489203282|\n",
      "|         SLB|  2.9514452059865377|\n",
      "|         SLE|  2.0484509115500824|\n",
      "|         SLV|  1.4740903226926727|\n",
      "|         SMR|  1.3694486349701527|\n",
      "|         SOM|  2.9075995632351623|\n",
      "|         SRB|                null|\n",
      "|         SSA|                null|\n",
      "|         SSD|  2.3199778684605126|\n",
      "|         SSF|                null|\n",
      "|         SST|                null|\n",
      "|         STP|  2.0350830227626457|\n",
      "|         SUR|   1.224060488782687|\n",
      "|         SVK|    0.50950227464436|\n",
      "|         SVN| 0.46591404985553575|\n",
      "|         SWE|  0.5331900275719291|\n",
      "|         SWZ|   2.096808627916644|\n",
      "|         SXM|                null|\n",
      "|         SYC|                null|\n",
      "|         SYR|   2.269937195070315|\n",
      "|         TCA|   3.186531019918735|\n",
      "|         TCD|  2.8123052913402913|\n",
      "|         TEA|                null|\n",
      "|         TEC|                null|\n",
      "|         TGO|   2.747465210682737|\n",
      "|         THA|   1.626058807289893|\n",
      "|         TJK|   2.550833367118104|\n",
      "|         TKM|  2.2509776369527907|\n",
      "|         TLA|                null|\n",
      "|         TLS|  1.6943261044166826|\n",
      "|         TMN|                null|\n",
      "|         TON|    0.92344367506336|\n",
      "|         TSA|                null|\n",
      "|         TSS|                null|\n",
      "|         TTO|  0.8757860823397549|\n",
      "|         TUN|  1.7473132104420435|\n",
      "|         TUR|  1.9015030105758162|\n",
      "|         TUV|   1.317008782656453|\n",
      "|         TZA|   2.969330955681602|\n",
      "|         UGA|  3.1743393552382893|\n",
      "|         UKR|  0.0973231853143515|\n",
      "|         UMC|                null|\n",
      "|         URY|  0.5421666024526827|\n",
      "|         USA|   1.035278475400047|\n",
      "|         UZB|   2.347212525658212|\n",
      "|         VCT|   0.550714211501525|\n",
      "|         VEN|   2.207192552869544|\n",
      "|         VGB|   2.241373512956287|\n",
      "|         VIR|   2.099367209491469|\n",
      "|         VNM|  1.8699981339019671|\n",
      "|         VUT|   2.636221510447161|\n",
      "|         WLD|                null|\n",
      "|         WSM|  1.0530664906343992|\n",
      "|         XKX|  1.1650261221970024|\n",
      "|         YEM|  2.8701683277583707|\n",
      "|         ZAF|   2.104643390849511|\n",
      "|         ZMB|   2.986142170227116|\n",
      "|         ZWE|  2.3289225820373596|\n",
      "+------------+--------------------+\n",
      "\n"
     ]
    }
   ],
   "source": [
    "df_average.select(['Country_Code','Result(Avg)']).show(300)"
   ]
  },
  {
   "cell_type": "code",
   "execution_count": null,
   "metadata": {},
   "outputs": [],
   "source": []
  }
 ],
 "metadata": {
  "kernelspec": {
   "display_name": "Python 3",
   "language": "python",
   "name": "python3"
  },
  "language_info": {
   "codemirror_mode": {
    "name": "ipython",
    "version": 3
   },
   "file_extension": ".py",
   "mimetype": "text/x-python",
   "name": "python",
   "nbconvert_exporter": "python",
   "pygments_lexer": "ipython3",
   "version": "3.7.4"
  }
 },
 "nbformat": 4,
 "nbformat_minor": 2
}
